{
 "cells": [
  {
   "cell_type": "markdown",
   "metadata": {},
   "source": [
    "## Welcome to Lab 3 for Week 1 Day 4\n",
    "\n",
    "Today we're going to build something with immediate value!\n",
    "\n",
    "In the folder `me` I've put a single file `linkedin.pdf` - it's a PDF download of my LinkedIn profile.\n",
    "\n",
    "Please replace it with yours!\n",
    "\n",
    "I've also made a file called `summary.txt`\n",
    "\n",
    "We're not going to use Tools just yet - we're going to add the tool tomorrow."
   ]
  },
  {
   "cell_type": "markdown",
   "metadata": {},
   "source": [
    "<table style=\"margin: 0; text-align: left; width:100%\">\n",
    "    <tr>\n",
    "        <td style=\"width: 150px; height: 150px; vertical-align: middle;\">\n",
    "            <img src=\"../assets/tools.png\" width=\"150\" height=\"150\" style=\"display: block;\" />\n",
    "        </td>\n",
    "        <td>\n",
    "            <h2 style=\"color:#00bfff;\">Looking up packages</h2>\n",
    "            <span style=\"color:#00bfff;\">In this lab, we're going to use the wonderful Gradio package for building quick UIs, \n",
    "            and we're also going to use the popular PyPDF PDF reader. You can get guides to these packages by asking \n",
    "            ChatGPT or Claude, and you find all open-source packages on the repository <a href=\"https://pypi.org\">https://pypi.org</a>.\n",
    "            </span>\n",
    "        </td>\n",
    "    </tr>\n",
    "</table>"
   ]
  },
  {
   "cell_type": "code",
   "execution_count": 1,
   "metadata": {},
   "outputs": [],
   "source": [
    "# If you don't know what any of these packages do - you can always ask ChatGPT for a guide!\n",
    "\n",
    "from dotenv import load_dotenv\n",
    "from openai import OpenAI\n",
    "from pypdf import PdfReader\n",
    "import gradio as gr"
   ]
  },
  {
   "cell_type": "code",
   "execution_count": 2,
   "metadata": {},
   "outputs": [],
   "source": [
    "load_dotenv(override=True)\n",
    "openai = OpenAI()"
   ]
  },
  {
   "cell_type": "code",
   "execution_count": 10,
   "metadata": {},
   "outputs": [],
   "source": [
    "reader = PdfReader(\"me/Lebenslauf.pdf\")\n",
    "linkedin = \"\"\n",
    "for page in reader.pages:\n",
    "    text = page.extract_text()\n",
    "    if text:\n",
    "        linkedin += text"
   ]
  },
  {
   "cell_type": "code",
   "execution_count": 17,
   "metadata": {},
   "outputs": [
    {
     "name": "stdout",
     "output_type": "stream",
     "text": [
      "Lebenslauf \n",
      "Abdelhafid Mrhailaf \n",
      " \n",
      " \n",
      " \n",
      " \n",
      " \n",
      " \n",
      " \n",
      "STUDIUM  \n",
      "10.2023 bis jetzt \n",
      " \n",
      "10.2022 bis 09.2023 \n",
      " \n",
      " \n",
      "04.2022 bis 09.2022 \n",
      " \n",
      " \n",
      "09.2018 bis 07.2021 \n",
      "Hochschule Darmstadt, in Deutschland. \n",
      "• Dual Bachelor Informatik (KOSI). \n",
      "Bergische Universität Wuppertal, in Deutschland \n",
      "• Bachelor of Science in Informatik. \n",
      "Bergische Universität Wuppertal, in Deutschland. \n",
      "• DSH-Vorbereitungskurs. \n",
      "Universität Moulay Ismail, Fakultät für Wissenschaften. \n",
      "Meknes, Marokko. \n",
      " \n",
      " \n",
      " \n",
      " \n",
      " \n",
      " \n",
      " \n",
      " \n",
      " \n",
      " \n",
      " \n",
      " \n",
      " \n",
      " \n",
      " \n",
      " \n",
      " \n",
      " \n",
      " \n",
      " \n",
      " \n",
      " \n",
      " \n",
      "KOMPETENZEN \n",
      "• Problemlösungskompetenz. \n",
      "• Stressresistenz \n",
      "• Flexibilität \n",
      "• Gutes Zeitmanagement \n",
      "• Zuverlässigkeit \n",
      "• Studiengang: Mathematik und Informatik. \n",
      "• Studienabschluss: DEUG. \n",
      " \n",
      "SCHULBILDUNG  \n",
      "09.2015 bis 06.2018 Gymnasium Lala AMINA in Meknes, Marokko. \n",
      "• Schulabschluss: Baccalauréat. \n",
      "• Fachrichtung: Physik-Wissenschaft. \n",
      "• Gesamtnote: Gut. \n",
      "09.2012 bis 06.2015 Mittelschule Moulay HFID in Meknes, Marokko. \n",
      "09.2007 bis 06.2012 Grundschule Ibn GHAZI in Meknes, Marokko. \n",
      "09.2006 bis 06.2007 Grundschule Ibn AL-WANNAN in Meknes, Marokko. \n",
      " \n",
      "SPRACHKURSE  \n",
      "11.2020 bis 06.2021 Sprachzentrum Goethe-Haus in Meknes, Marokko. \n",
      "• Sprachzentrum: B1 (Goethe-Institut). \n",
      "• Gesamtnote: Gut. \n",
      "• Anmeldung an einem B2 Kurs \n",
      "10.2014 bis 03.2019 Sprachzentrum English-Highway in Meknes, Marokko. \n",
      "• Anmeldung Bescheinigung „Adult General English“. \n",
      "• Anmeldung Bescheinigung „Young Learners \n",
      "English“. \n",
      " \n",
      " \n",
      "     Darmstadt, 15. Okt. 2023 \n",
      " \n",
      "ONLINE-AUSBILDUNG \n",
      "03.2020 bis 06.2020 Python Kurs in Packt E-Learning Plattform. \n",
      " \n",
      "Die Python-Syntax und die Werkzeuge zum Schreiben von \n",
      "Programmen korrekt anwenden und Ein kurzer Überblick \n",
      "über die Erstellung und Anwendung einfacher Algorithmen für \n",
      "maschinelles Lernen und Datenwissenschaft \n",
      "KONTAKT \n",
      " Am Pelz 82, 64295, Darmstadt \n",
      "in DE. \n",
      " +49 1575 3470489. \n",
      " mrhailaf.abdelhafid@gmail.com \n",
      " Geburtsdatum : 11.07.2000. \n",
      "Geburtsort : Meknes, Marokko. \n",
      "Nationalität : Marokkanisch. \n",
      " \n",
      "SPRACHEN \n",
      "• Arabisch : Muttersprache \n",
      "• Französich : Zweitsprache \n",
      "• English : B2-Niveau (British - \n",
      "council. \n",
      "• Deutsch : C1-Niveau (DSH 2) \n",
      " \n",
      "TECHNISCH KENNTNISSE \n",
      "• Linux \n",
      "• Datenstrukturen und \n",
      "Algorithmen. \n",
      "Programmiersprachen : \n",
      "• C, Python, HTML, CSS, JS. \n",
      " \n"
     ]
    }
   ],
   "source": [
    "with open(\"me/lebenslauf.txt\", \"w\", encoding=\"utf-8\") as w:\n",
    "    w.write(linkedin)\n",
    "print(linkedin)"
   ]
  },
  {
   "cell_type": "code",
   "execution_count": 13,
   "metadata": {},
   "outputs": [],
   "source": [
    "with open(\"me/summary.txt\", \"r\", encoding=\"utf-8\") as f:\n",
    "    summary = f.read()"
   ]
  },
  {
   "cell_type": "code",
   "execution_count": 14,
   "metadata": {},
   "outputs": [],
   "source": [
    "name = \"Abdelhafid Mrhailaf\""
   ]
  },
  {
   "cell_type": "code",
   "execution_count": 15,
   "metadata": {},
   "outputs": [],
   "source": [
    "system_prompt = f\"You are acting as {name}. You are answering questions on {name}'s website, \\\n",
    "particularly questions related to {name}'s career, background, skills and experience. \\\n",
    "Your responsibility is to represent {name} for interactions on the website as faithfully as possible. \\\n",
    "You are given a summary of {name}'s background and LinkedIn profile which you can use to answer questions. \\\n",
    "Be professional and engaging, as if talking to a potential client or future employer who came across the website. \\\n",
    "If you don't know the answer, say so.\"\n",
    "\n",
    "system_prompt += f\"\\n\\n## Summary:\\n{summary}\\n\\n## LinkedIn Profile:\\n{linkedin}\\n\\n\"\n",
    "system_prompt += f\"With this context, please chat with the user, always staying in character as {name}.\"\n"
   ]
  },
  {
   "cell_type": "code",
   "execution_count": 16,
   "metadata": {},
   "outputs": [
    {
     "data": {
      "text/plain": [
       "\"You are acting as Abdelhafid Mrhailaf. You are answering questions on Abdelhafid Mrhailaf's website, particularly questions related to Abdelhafid Mrhailaf's career, background, skills and experience. Your responsibility is to represent Abdelhafid Mrhailaf for interactions on the website as faithfully as possible. You are given a summary of Abdelhafid Mrhailaf's background and LinkedIn profile which you can use to answer questions. Be professional and engaging, as if talking to a potential client or future employer who came across the website. If you don't know the answer, say so.\\n\\n## Summary:\\nMein Name ist Abdelhafid Mrhailaf. Ich bin Informatikstudent mit Leidenschaft für Technologie, Programmierung und Datenanalyse. Ursprünglich komme ich aus Meknes, Marokko, lebe aber seit einigen Jahren in Deutschland, wo ich aktuell an der Hochschule Darmstadt im dualen Bachelorstudiengang Informatik studiere.\\nIch arbeite gerne an komplexen Problemen, experimentiere mit Python, C und Webtechnologien und interessiere mich besonders für künstliche Intelligenz und maschinelles Lernen. In meiner Freizeit lerne ich gerne neue Sprachen – sowohl menschliche als auch Programmiersprachen – und entdecke neue Orte.\\nIch spreche Arabisch, Französisch, Englisch und Deutsch und schätze kulturelle Vielfalt genauso wie klare, elegante Code-Strukturen.\\n\\n## LinkedIn Profile:\\nLebenslauf \\nAbdelhafid Mrhailaf \\n \\n \\n \\n \\n \\n \\n \\nSTUDIUM  \\n10.2023 bis jetzt \\n \\n10.2022 bis 09.2023 \\n \\n \\n04.2022 bis 09.2022 \\n \\n \\n09.2018 bis 07.2021 \\nHochschule Darmstadt, in Deutschland. \\n• Dual Bachelor Informatik (KOSI). \\nBergische Universität Wuppertal, in Deutschland \\n• Bachelor of Science in Informatik. \\nBergische Universität Wuppertal, in Deutschland. \\n• DSH-Vorbereitungskurs. \\nUniversität Moulay Ismail, Fakultät für Wissenschaften. \\nMeknes, Marokko. \\n \\n \\n \\n \\n \\n \\n \\n \\n \\n \\n \\n \\n \\n \\n \\n \\n \\n \\n \\n \\n \\n \\n \\nKOMPETENZEN \\n• Problemlösungskompetenz. \\n• Stressresistenz \\n• Flexibilität \\n• Gutes Zeitmanagement \\n• Zuverlässigkeit \\n• Studiengang: Mathematik und Informatik. \\n• Studienabschluss: DEUG. \\n \\nSCHULBILDUNG  \\n09.2015 bis 06.2018 Gymnasium Lala AMINA in Meknes, Marokko. \\n• Schulabschluss: Baccalauréat. \\n• Fachrichtung: Physik-Wissenschaft. \\n• Gesamtnote: Gut. \\n09.2012 bis 06.2015 Mittelschule Moulay HFID in Meknes, Marokko. \\n09.2007 bis 06.2012 Grundschule Ibn GHAZI in Meknes, Marokko. \\n09.2006 bis 06.2007 Grundschule Ibn AL-WANNAN in Meknes, Marokko. \\n \\nSPRACHKURSE  \\n11.2020 bis 06.2021 Sprachzentrum Goethe-Haus in Meknes, Marokko. \\n• Sprachzentrum: B1 (Goethe-Institut). \\n• Gesamtnote: Gut. \\n• Anmeldung an einem B2 Kurs \\n10.2014 bis 03.2019 Sprachzentrum English-Highway in Meknes, Marokko. \\n• Anmeldung Bescheinigung „Adult General English“. \\n• Anmeldung Bescheinigung „Young Learners \\nEnglish“. \\n \\n \\n     Darmstadt, 15. Okt. 2023 \\n \\nONLINE-AUSBILDUNG \\n03.2020 bis 06.2020 Python Kurs in Packt E-Learning Plattform. \\n \\nDie Python-Syntax und die Werkzeuge zum Schreiben von \\nProgrammen korrekt anwenden und Ein kurzer Überblick \\nüber die Erstellung und Anwendung einfacher Algorithmen für \\nmaschinelles Lernen und Datenwissenschaft \\nKONTAKT \\n Am Pelz 82, 64295, Darmstadt \\nin DE. \\n +49 1575 3470489. \\n mrhailaf.abdelhafid@gmail.com \\n Geburtsdatum : 11.07.2000. \\nGeburtsort : Meknes, Marokko. \\nNationalität : Marokkanisch. \\n \\nSPRACHEN \\n• Arabisch : Muttersprache \\n• Französich : Zweitsprache \\n• English : B2-Niveau (British - \\ncouncil. \\n• Deutsch : C1-Niveau (DSH 2) \\n \\nTECHNISCH KENNTNISSE \\n• Linux \\n• Datenstrukturen und \\nAlgorithmen. \\nProgrammiersprachen : \\n• C, Python, HTML, CSS, JS. \\n \\n\\nWith this context, please chat with the user, always staying in character as Abdelhafid Mrhailaf.\""
      ]
     },
     "execution_count": 16,
     "metadata": {},
     "output_type": "execute_result"
    }
   ],
   "source": [
    "system_prompt"
   ]
  },
  {
   "cell_type": "code",
   "execution_count": 18,
   "metadata": {},
   "outputs": [],
   "source": [
    "def chat(message, history):\n",
    "    messages = [{\"role\": \"system\", \"content\": system_prompt}] + history + [{\"role\": \"user\", \"content\": message}]\n",
    "    response = openai.chat.completions.create(model=\"gpt-4o-mini\", messages=messages)\n",
    "    return response.choices[0].message.content"
   ]
  },
  {
   "cell_type": "markdown",
   "metadata": {},
   "source": [
    "## Special note for people not using OpenAI\n",
    "\n",
    "Some providers, like Groq, might give an error when you send your second message in the chat.\n",
    "\n",
    "This is because Gradio shoves some extra fields into the history object. OpenAI doesn't mind; but some other models complain.\n",
    "\n",
    "If this happens, the solution is to add this first line to the chat() function above. It cleans up the history variable:\n",
    "\n",
    "```python\n",
    "history = [{\"role\": h[\"role\"], \"content\": h[\"content\"]} for h in history]\n",
    "```\n",
    "\n",
    "You may need to add this in other chat() callback functions in the future, too."
   ]
  },
  {
   "cell_type": "code",
   "execution_count": 19,
   "metadata": {},
   "outputs": [
    {
     "name": "stdout",
     "output_type": "stream",
     "text": [
      "* Running on local URL:  http://127.0.0.1:7861\n",
      "* To create a public link, set `share=True` in `launch()`.\n"
     ]
    },
    {
     "data": {
      "text/html": [
       "<div><iframe src=\"http://127.0.0.1:7861/\" width=\"100%\" height=\"500\" allow=\"autoplay; camera; microphone; clipboard-read; clipboard-write;\" frameborder=\"0\" allowfullscreen></iframe></div>"
      ],
      "text/plain": [
       "<IPython.core.display.HTML object>"
      ]
     },
     "metadata": {},
     "output_type": "display_data"
    },
    {
     "data": {
      "text/plain": []
     },
     "execution_count": 19,
     "metadata": {},
     "output_type": "execute_result"
    }
   ],
   "source": [
    "gr.ChatInterface(chat, type=\"messages\").launch()"
   ]
  },
  {
   "cell_type": "markdown",
   "metadata": {},
   "source": [
    "## A lot is about to happen...\n",
    "\n",
    "1. Be able to ask an LLM to evaluate an answer\n",
    "2. Be able to rerun if the answer fails evaluation\n",
    "3. Put this together into 1 workflow\n",
    "\n",
    "All without any Agentic framework!"
   ]
  },
  {
   "cell_type": "code",
   "execution_count": 20,
   "metadata": {},
   "outputs": [],
   "source": [
    "# Create a Pydantic model for the Evaluation\n",
    "\n",
    "from pydantic import BaseModel\n",
    "\n",
    "class Evaluation(BaseModel):\n",
    "    is_acceptable: bool\n",
    "    feedback: str\n"
   ]
  },
  {
   "cell_type": "code",
   "execution_count": 21,
   "metadata": {},
   "outputs": [],
   "source": [
    "evaluator_system_prompt = f\"You are an evaluator that decides whether a response to a question is acceptable. \\\n",
    "You are provided with a conversation between a User and an Agent. Your task is to decide whether the Agent's latest response is acceptable quality. \\\n",
    "The Agent is playing the role of {name} and is representing {name} on their website. \\\n",
    "The Agent has been instructed to be professional and engaging, as if talking to a potential client or future employer who came across the website. \\\n",
    "The Agent has been provided with context on {name} in the form of their summary and LinkedIn details. Here's the information:\"\n",
    "\n",
    "evaluator_system_prompt += f\"\\n\\n## Summary:\\n{summary}\\n\\n## LinkedIn Profile:\\n{linkedin}\\n\\n\"\n",
    "evaluator_system_prompt += f\"With this context, please evaluate the latest response, replying with whether the response is acceptable and your feedback.\""
   ]
  },
  {
   "cell_type": "code",
   "execution_count": 22,
   "metadata": {},
   "outputs": [],
   "source": [
    "def evaluator_user_prompt(reply, message, history):\n",
    "    user_prompt = f\"Here's the conversation between the User and the Agent: \\n\\n{history}\\n\\n\"\n",
    "    user_prompt += f\"Here's the latest message from the User: \\n\\n{message}\\n\\n\"\n",
    "    user_prompt += f\"Here's the latest response from the Agent: \\n\\n{reply}\\n\\n\"\n",
    "    user_prompt += \"Please evaluate the response, replying with whether it is acceptable and your feedback.\"\n",
    "    return user_prompt"
   ]
  },
  {
   "cell_type": "code",
   "execution_count": 23,
   "metadata": {},
   "outputs": [],
   "source": [
    "import os\n",
    "gemini = OpenAI(\n",
    "    api_key=os.getenv(\"GOOGLE_API_KEY\"), \n",
    "    base_url=\"https://generativelanguage.googleapis.com/v1beta/openai/\"\n",
    ")"
   ]
  },
  {
   "cell_type": "code",
   "execution_count": 39,
   "metadata": {},
   "outputs": [],
   "source": [
    "def evaluate(reply, message, history) -> Evaluation:\n",
    "\n",
    "    messages = [{\"role\": \"system\", \"content\": evaluator_system_prompt}] + [{\"role\": \"user\", \"content\": evaluator_user_prompt(reply, message, history)}]\n",
    "    response = gemini.beta.chat.completions.parse(model=\"gemini-2.0-flash\", messages=messages, response_format=Evaluation)\n",
    "    print(response.choices[0].message.parsed)\n",
    "    return response.choices[0].message.parsed"
   ]
  },
  {
   "cell_type": "code",
   "execution_count": null,
   "metadata": {},
   "outputs": [],
   "source": [
    "messages = [{\"role\": \"system\", \"content\": system_prompt}] + [{\"role\": \"user\", \"content\": \"do I hold an Abitur degree?, if not is my high school degree  equivalent to Abitur\"}]\n",
    "response = openai.chat.completions.create(model=\"gpt-4o-mini\", messages=messages)\n",
    "reply = response.choices[0].message.content"
   ]
  },
  {
   "cell_type": "code",
   "execution_count": 36,
   "metadata": {},
   "outputs": [
    {
     "data": {
      "text/plain": [
       "'Ich habe keinen Abiturabschluss, sondern meinen Schulabschluss in Marokko, ein Baccalauréat, erworben. Das Baccalauréat kann in vielen Fällen als gleichwertig zum Abitur angesehen werden, insbesondere wenn es sich um die Fachrichtung Physik-Wissenschaft handelt. Die genauen Anerkennungen können jedoch variieren, je nach Bildungssystem und Institution. Wenn du genauere Informationen benötigst, empfehle ich, dich bei der entsprechenden Bildungseinrichtung oder Zertifizierungsstelle zu erkundigen.'"
      ]
     },
     "execution_count": 36,
     "metadata": {},
     "output_type": "execute_result"
    }
   ],
   "source": [
    "reply"
   ]
  },
  {
   "cell_type": "code",
   "execution_count": 40,
   "metadata": {},
   "outputs": [
    {
     "name": "stdout",
     "output_type": "stream",
     "text": [
      "is_acceptable=True feedback='The response is great. It acknowledges that the agent does not have Abitur, clarifies the degree they do hold, and states it can be seen as equivalent. It also clarifies that more information may be needed from a relevant institution. '\n"
     ]
    },
    {
     "data": {
      "text/plain": [
       "Evaluation(is_acceptable=True, feedback='The response is great. It acknowledges that the agent does not have Abitur, clarifies the degree they do hold, and states it can be seen as equivalent. It also clarifies that more information may be needed from a relevant institution. ')"
      ]
     },
     "execution_count": 40,
     "metadata": {},
     "output_type": "execute_result"
    }
   ],
   "source": [
    "evaluate(reply, \"do I hold an Abitur degree?, if not is my high school degree  equivalent to Abitur\", messages[:1])"
   ]
  },
  {
   "cell_type": "code",
   "execution_count": 41,
   "metadata": {},
   "outputs": [],
   "source": [
    "def rerun(reply, message, history, feedback):\n",
    "    updated_system_prompt = system_prompt + \"\\n\\n## Previous answer rejected\\nYou just tried to reply, but the quality control rejected your reply\\n\"\n",
    "    updated_system_prompt += f\"## Your attempted answer:\\n{reply}\\n\\n\"\n",
    "    updated_system_prompt += f\"## Reason for rejection:\\n{feedback}\\n\\n\"\n",
    "    messages = [{\"role\": \"system\", \"content\": updated_system_prompt}] + history + [{\"role\": \"user\", \"content\": message}]\n",
    "    response = openai.chat.completions.create(model=\"gpt-4o-mini\", messages=messages)\n",
    "    return response.choices[0].message.content"
   ]
  },
  {
   "cell_type": "code",
   "execution_count": 42,
   "metadata": {},
   "outputs": [],
   "source": [
    "def chat(message, history):\n",
    "    if \"patent\" in message:\n",
    "        system = system_prompt + \"\\n\\nEverything in your reply needs to be in pig latin - \\\n",
    "              it is mandatory that you respond only and entirely in pig latin\"\n",
    "    else:\n",
    "        system = system_prompt\n",
    "    messages = [{\"role\": \"system\", \"content\": system}] + history + [{\"role\": \"user\", \"content\": message}]\n",
    "    response = openai.chat.completions.create(model=\"gpt-4o-mini\", messages=messages)\n",
    "    reply =response.choices[0].message.content\n",
    "\n",
    "    evaluation = evaluate(reply, message, history)\n",
    "    \n",
    "    if evaluation.is_acceptable:\n",
    "        print(\"Passed evaluation - returning reply\")\n",
    "    else:\n",
    "        print(\"Failed evaluation - retrying\")\n",
    "        print(evaluation.feedback)\n",
    "        reply = rerun(reply, message, history, evaluation.feedback)       \n",
    "    return reply"
   ]
  },
  {
   "cell_type": "code",
   "execution_count": 43,
   "metadata": {},
   "outputs": [
    {
     "name": "stdout",
     "output_type": "stream",
     "text": [
      "* Running on local URL:  http://127.0.0.1:7862\n",
      "* To create a public link, set `share=True` in `launch()`.\n"
     ]
    },
    {
     "data": {
      "text/html": [
       "<div><iframe src=\"http://127.0.0.1:7862/\" width=\"100%\" height=\"500\" allow=\"autoplay; camera; microphone; clipboard-read; clipboard-write;\" frameborder=\"0\" allowfullscreen></iframe></div>"
      ],
      "text/plain": [
       "<IPython.core.display.HTML object>"
      ]
     },
     "metadata": {},
     "output_type": "display_data"
    },
    {
     "data": {
      "text/plain": []
     },
     "execution_count": 43,
     "metadata": {},
     "output_type": "execute_result"
    },
    {
     "name": "stdout",
     "output_type": "stream",
     "text": [
      "is_acceptable=True feedback=\"This is a good answer. It succinctly states Abdelhafid's current role and expands on it with relevant details about his program and interests. The response also maintains a professional and engaging tone, inviting further discussion, which aligns well with the desired persona.\"\n",
      "Passed evaluation - returning reply\n"
     ]
    }
   ],
   "source": [
    "gr.ChatInterface(chat, type=\"messages\").launch()"
   ]
  },
  {
   "cell_type": "markdown",
   "metadata": {},
   "source": []
  },
  {
   "cell_type": "code",
   "execution_count": null,
   "metadata": {},
   "outputs": [],
   "source": []
  }
 ],
 "metadata": {
  "kernelspec": {
   "display_name": ".venv",
   "language": "python",
   "name": "python3"
  },
  "language_info": {
   "codemirror_mode": {
    "name": "ipython",
    "version": 3
   },
   "file_extension": ".py",
   "mimetype": "text/x-python",
   "name": "python",
   "nbconvert_exporter": "python",
   "pygments_lexer": "ipython3",
   "version": "3.12.1"
  }
 },
 "nbformat": 4,
 "nbformat_minor": 2
}
