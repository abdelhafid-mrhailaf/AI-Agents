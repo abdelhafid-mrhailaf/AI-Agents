{
 "cells": [
  {
   "cell_type": "code",
   "execution_count": 9,
   "id": "b2a4b063",
   "metadata": {},
   "outputs": [
    {
     "data": {
      "text/plain": [
       "True"
      ]
     },
     "execution_count": 9,
     "metadata": {},
     "output_type": "execute_result"
    }
   ],
   "source": [
    "from pydantic import BaseModel, Field\n",
    "from agents import Agent, WebSearchTool, trace, Runner, gen_trace_id, function_tool\n",
    "from agents.model_settings import ModelSettings\n",
    "from dotenv import load_dotenv  # pyright: ignore[reportMissingImports]\n",
    "\n",
    "load_dotenv(override=True)"
   ]
  },
  {
   "cell_type": "code",
   "execution_count": 10,
   "id": "4c93489d",
   "metadata": {},
   "outputs": [
    {
     "name": "stdout",
     "output_type": "stream",
     "text": [
      "Planning searches...\n",
      "best smartphones of 2023\n",
      "\n",
      "\n",
      "top phone reviews 2023\n",
      "\n",
      "\n",
      "2023 phones comparison guide\n",
      "\n",
      "\n"
     ]
    },
    {
     "data": {
      "text/plain": [
       "WebSearchItem(reason='To find up-to-date rankings and reviews for the latest smartphones available in 2023.', query='test')"
      ]
     },
     "execution_count": 10,
     "metadata": {},
     "output_type": "execute_result"
    }
   ],
   "source": [
    "#planner \n",
    "HOW_MANY_SEARCHES = 3\n",
    "\n",
    "INSTRUCTIONS_PLANNER = f\"You are a helpful research assistant. Given a query, come up with a set of web searches \\\n",
    "to perform to best answer the query. Output {HOW_MANY_SEARCHES} terms to query for.\"\n",
    "\n",
    "class WebSearchItem(BaseModel):\n",
    "    reason: str = Field(description=\"Your reasoning for why this search is important to the query.\")\n",
    "    query: str = Field(description=\"The search term to use for the web search.\")\n",
    "\n",
    "class WebSearchItemList(BaseModel):\n",
    "    searches: list[WebSearchItem] = Field(description=\"A list of web searches to perform to best answer the query.\")\n",
    "\n",
    "planner_agent = Agent(\n",
    "    name=\"PlannerAgent\",\n",
    "    instructions=INSTRUCTIONS_PLANNER,\n",
    "    model=\"gpt-4o-mini\",\n",
    "    output_type=WebSearchItemList\n",
    ")\n",
    "\n",
    "async def perform_plan(query: str) -> WebSearchItemList:\n",
    "    print(\"Planning searches...\")\n",
    "    result = await Runner.run(\n",
    "        planner_agent,\n",
    "        f\"Query: {query}\",\n",
    "    )\n",
    "    #print(f\"Will perform {len(result.final_output.searches)} searches\")\n",
    "    return result.final_output_as(WebSearchItemList)\n",
    "\n",
    "query = \"best 2023 Phones\" \n",
    "\n",
    "elements = await perform_plan(\"best 2023 Phones\")\n",
    "for item in elements.searches:\n",
    "    print(item.query)\n",
    "    print(f\"\\n\") \n",
    "\n",
    "elements.searches[0].query = \"test\"\n",
    "elements.searches[0]"
   ]
  },
  {
   "cell_type": "code",
   "execution_count": 11,
   "id": "3188aff3",
   "metadata": {},
   "outputs": [
    {
     "name": "stdout",
     "output_type": "stream",
     "text": [
      "test\n"
     ]
    }
   ],
   "source": [
    "print(elements.searches[0].query)"
   ]
  },
  {
   "cell_type": "code",
   "execution_count": 12,
   "id": "c95bbe1a",
   "metadata": {},
   "outputs": [
    {
     "data": {
      "text/plain": [
       "EvaluateWebSearchItem(is_accepted=False, reason=\"The WebSearchItem 'test' is too vague and does not provide any relevant information about the best phones of 2023. A more specific result is needed to be useful for the query.\")"
      ]
     },
     "execution_count": 12,
     "metadata": {},
     "output_type": "execute_result"
    }
   ],
   "source": [
    "#Evaluation\n",
    "class EvaluateWebSearchItem(BaseModel):\n",
    "    is_accepted: bool\n",
    "    reason: str =  Field(description=\"why the suggestion of the AI is accepted or not\")\n",
    "\n",
    "\n",
    "INSTRUCTIONS_VALIDATOR = \"You are an evaluator. Given a query and a WebSearchItem \\\n",
    "                (with its reasoning and query), decide if the search suggestion is good.\\\n",
    "                Return an EvaluateWebSearchItem object with fields: is_accepted (bool) \\\n",
    "                and reason (why the suggestion is accepted or not). \\\n",
    "                Use the query to judge how relevant and useful the search is.\"\n",
    "\n",
    "evaluator_agent = Agent(\n",
    "    name=\"EvaluatorAgent\",\n",
    "    instructions=INSTRUCTIONS_VALIDATOR,\n",
    "    model=\"gpt-4o-mini\",\n",
    "    output_type=EvaluateWebSearchItem\n",
    ")\n",
    "\n",
    "async def evaluate_websearch_item(query: str, webSearchItem: WebSearchItem) -> EvaluateWebSearchItem:\n",
    "    result_evaluation = await Runner.run(\n",
    "        evaluator_agent,\n",
    "        f\"Query: {query}, WebSearchItem: {webSearchItem}\"\n",
    "    )\n",
    "    return result_evaluation.final_output_as(EvaluateWebSearchItem)\n",
    "\n",
    "validatedObj = await evaluate_websearch_item(query, elements.searches[0].query)\n",
    "validatedObj"
   ]
  },
  {
   "cell_type": "code",
   "execution_count": 13,
   "id": "dbdb1ff2",
   "metadata": {},
   "outputs": [
    {
     "name": "stdout",
     "output_type": "stream",
     "text": [
      "generating a new Item\n",
      "Regeneration of the prompt for the keyword result: test\n"
     ]
    },
    {
     "data": {
      "text/plain": [
       "WebSearchItem(reason='The new search query narrows the focus to the best smartphones of 2023, ensuring that the search results include specific rankings and reviews of current models.', query='best smartphones of 2023 reviews and rankings')"
      ]
     },
     "execution_count": 13,
     "metadata": {},
     "output_type": "execute_result"
    }
   ],
   "source": [
    "INSTRUCTIONS_REGENERATOR = \"You are a regenerator. Given a user query,\\\n",
    "                a rejected WebSearchItem, and validator feedback, generate a new, more relevant\\\n",
    "                and precise search query that fixes the issues noted. Focus on key entities, context, and clarity. Output a WebSearchItem with: reason\\\n",
    "                (why this new search is important to the query) and query (the improved search term to use).\"\n",
    "\n",
    "regenerator_agent = Agent(\n",
    "    name=\"RegeneratorAgent\",\n",
    "    instructions=INSTRUCTIONS_REGENERATOR,\n",
    "    model=\"gpt-4o-mini\",\n",
    "    output_type=WebSearchItem\n",
    ")\n",
    "\n",
    "async def regenerator_websearch_item(query: str, rejectedItem: WebSearchItem, evaluationObject: EvaluateWebSearchItem) -> WebSearchItem:\n",
    "    print(\"generating a new Item\")\n",
    "    newItem = await Runner.run(\n",
    "        regenerator_agent,\n",
    "        f\"Query: {query}, Rejected item: {rejectedItem}, validator feedback: {evaluationObject}\"\n",
    "        )\n",
    "    print(f\"Regeneration of the prompt for the keyword result: {rejectedItem.query}\")\n",
    "    return newItem.final_output_as(WebSearchItem)\n",
    "\n",
    "\n",
    "regenerated_object = await regenerator_websearch_item(query, elements.searches[0], validatedObj)\n",
    "regenerated_object"
   ]
  },
  {
   "cell_type": "code",
   "execution_count": 14,
   "id": "58a3965d",
   "metadata": {},
   "outputs": [
    {
     "name": "stdout",
     "output_type": "stream",
     "text": [
      "generating a new Item\n",
      "Regeneration of the prompt for the keyword result: test\n",
      "The query best smartphones 2023 rankings reviews is validated\n"
     ]
    },
    {
     "data": {
      "text/plain": [
       "WebSearchItem(reason='This new search query directly targets the request for the best smartphones in 2023, ensuring access to current rankings, reviews, and comparisons that will inform the user about their options.', query='best smartphones 2023 rankings reviews')"
      ]
     },
     "execution_count": 14,
     "metadata": {},
     "output_type": "execute_result"
    }
   ],
   "source": [
    "async def validate_websearch_item(query: str, webSearchItem: WebSearchItem) -> WebSearchItem:\n",
    "    resultEvaluation = await evaluate_websearch_item(query, webSearchItem)\n",
    "    EXTEND_LIMIT_OF_CALL = 0\n",
    "    while not resultEvaluation.is_accepted and EXTEND_LIMIT_OF_CALL != 10:\n",
    "        webSearchItem = await regenerator_websearch_item(query, webSearchItem, resultEvaluation)\n",
    "        resultEvaluation = await evaluate_websearch_item(query, webSearchItem)\n",
    "        EXTEND_LIMIT_OF_CALL += 1\n",
    "    if EXTEND_LIMIT_OF_CALL >= 10:\n",
    "        raise RuntimeError(\"Loop exceeded allowed iteration count (10)\")\n",
    "    else:\n",
    "        print(f\"The query {webSearchItem.query} is validated\")\n",
    "    return webSearchItem\n",
    "\n",
    "await validate_websearch_item(query, elements.searches[0])"
   ]
  },
  {
   "cell_type": "code",
   "execution_count": 15,
   "id": "b675de82",
   "metadata": {},
   "outputs": [
    {
     "name": "stdout",
     "output_type": "stream",
     "text": [
      "Prompt of List before:\n",
      "test\n",
      "\n",
      "\n",
      "top phone reviews 2023\n",
      "\n",
      "\n",
      "2023 phones comparison guide\n",
      "\n",
      "\n",
      "generating a new Item\n",
      "Regeneration of the prompt for the keyword result: test\n",
      "The query best smartphones 2023 rankings and reviews is validated\n",
      "The query top phone reviews 2023 is validated\n",
      "The query 2023 phones comparison guide is validated\n",
      "Prompt of List after:\n",
      "best smartphones 2023 rankings and reviews\n",
      "\n",
      "\n",
      "top phone reviews 2023\n",
      "\n",
      "\n",
      "2023 phones comparison guide\n",
      "\n",
      "\n"
     ]
    }
   ],
   "source": [
    "async def validate_websearch_list(query: str, webSearchItemlist: WebSearchItemList) -> WebSearchItemList:\n",
    "    validatedWebSearchItemList = []\n",
    "    for item in webSearchItemlist.searches:\n",
    "        validatedItem = await validate_websearch_item(query, item)\n",
    "        validatedWebSearchItemList.append(validatedItem)\n",
    "    return WebSearchItemList(searches=validatedWebSearchItemList) \n",
    "\n",
    "\n",
    "print(\"Prompt of List before:\")\n",
    "for item in elements.searches:\n",
    "    print(item.query)\n",
    "    print(f\"\\n\") \n",
    "\n",
    "elements = await validate_websearch_list(query, elements)\n",
    "\n",
    "print(\"Prompt of List after:\")\n",
    "for item in elements.searches:\n",
    "    print(item.query)\n",
    "    print(f\"\\n\") "
   ]
  },
  {
   "cell_type": "code",
   "execution_count": 17,
   "id": "c14a3cc0",
   "metadata": {},
   "outputs": [
    {
     "name": "stdout",
     "output_type": "stream",
     "text": [
      "Planning searches...\n",
      "The query most popular AI chatbots for IT networking 2025 is validated\n",
      "The query AI chatbots for IT networking features 2025 is validated\n",
      "The query customer reviews AI chatbots IT networking 2025 is validated\n"
     ]
    },
    {
     "data": {
      "text/plain": [
       "WebSearchItemList(searches=[WebSearchItem(reason='To find current trends and popular AI chatbots in IT networking.', query='most popular AI chatbots for IT networking 2025'), WebSearchItem(reason='To gather insights on advancements and features of IT networking chatbots.', query='AI chatbots for IT networking features 2025'), WebSearchItem(reason='To explore user reviews and industry adoption of chatbots in IT networking.', query='customer reviews AI chatbots IT networking 2025')])"
      ]
     },
     "execution_count": 17,
     "metadata": {},
     "output_type": "execute_result"
    }
   ],
   "source": [
    "async def plan_deep_search(query) -> WebSearchItemList:\n",
    "    webSearchItemListObject = await perform_plan(query)\n",
    "    webSearchItemListObject = await validate_websearch_list(query, webSearchItemListObject)\n",
    "    return webSearchItemListObject\n",
    "\n",
    "\n",
    "await plan_deep_search(\"What are the most used AI powered Chatbots for IT Networking in 2025\")"
   ]
  }
 ],
 "metadata": {
  "kernelspec": {
   "display_name": ".venv",
   "language": "python",
   "name": "python3"
  },
  "language_info": {
   "codemirror_mode": {
    "name": "ipython",
    "version": 3
   },
   "file_extension": ".py",
   "mimetype": "text/x-python",
   "name": "python",
   "nbconvert_exporter": "python",
   "pygments_lexer": "ipython3",
   "version": "3.12.3"
  }
 },
 "nbformat": 4,
 "nbformat_minor": 5
}
