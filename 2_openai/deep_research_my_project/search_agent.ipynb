{
 "cells": [
  {
   "cell_type": "code",
   "execution_count": 11,
   "id": "50f2716c",
   "metadata": {},
   "outputs": [],
   "source": [
    "from agents import Agent, WebSearchTool, ModelSettings\n",
    "from dotenv import load_dotenv\n",
    "\n",
    "load_dotenv(override=True)\n",
    "VALIDATOR_INSTRUCTION = \"You are a validation assistant. Given a search term and a generated summary, your task is to verify whether the summary adheres to the INSTRUCTIONS. The summary should be 2–3 paragraphs, under 300 words, concise, and focused only on the essential points from the web search results. Writing should be compact, possibly using fragments or short phrases, and free of commentary, filler, or unnecessary detail. The output must contain only the summary itself, no explanations or formatting. You will assess compliance and quality. If the summary violates any rule, briefly describe the issues. Always output your evaluation in three parts: Compliance (Yes/No), Issues (if any), and Quality Score (0–10). Be objective, professional, and concise in your assessment.\"\n",
    "\n",
    "\n",
    "search_agent_validator = Agent(\n",
    "    name=\"Search agent validator\",\n",
    "    instructions = VALIDATOR_INSTRUCTION,\n",
    "    model = \"gpt-4o-mini\"\n",
    ")\n",
    "\n",
    "search_validator_tool = search_agent_validator.as_tool(tool_name=\"search_validator\", tool_description=\"Validates whether a generated web search summary complies with the defined formatting and content INSTRUCTIONS. \"\n",
    "    \"It checks that the summary is 2–3 paragraphs, under 300 words, concise, and focused only on key findings without commentary or filler. \"\n",
    "    \"The tool outputs an objective evaluation including compliance status (Yes/No), a brief description of any issues, \"\n",
    "    \"and a quality score from 0–10 based on clarity, conciseness, and adherence to the guidelines.\")"
   ]
  },
  {
   "cell_type": "code",
   "execution_count": 12,
   "id": "deb2aadf",
   "metadata": {},
   "outputs": [],
   "source": [
    "INSTRUCTIONS = (\n",
    "    \"You are a research assistant. Given a search term, you search the web for that term and \"\n",
    "    \"produce a concise summary of the results. The summary must 2-3 paragraphs and less than 300 \"\n",
    "    \"words. Capture the main points. Write succintly, no need to have complete sentences or good \"\n",
    "    \"grammar. This will be consumed by someone synthesizing a report, so its vital you capture the \"\n",
    "    \"essence and ignore any fluff. Do not include any additional commentary other than the summary itself.\"\n",
    "    \"After producing the summary (and just after producing the summary), always use the search_validator tool to check compliance with the INSTRUCTIONS before finalizing your answer.\"\n",
    ")\n",
    "\n",
    "search_agent = Agent(\n",
    "    name=\"Search agent\",\n",
    "    instructions=INSTRUCTIONS,\n",
    "    tools=[WebSearchTool(search_context_size=\"low\"), search_validator_tool],\n",
    "    model=\"gpt-4o-mini\",\n",
    "    model_settings=ModelSettings(tool_choice=\"required\"),\n",
    ")"
   ]
  }
 ],
 "metadata": {
  "kernelspec": {
   "display_name": ".venv",
   "language": "python",
   "name": "python3"
  },
  "language_info": {
   "codemirror_mode": {
    "name": "ipython",
    "version": 3
   },
   "file_extension": ".py",
   "mimetype": "text/x-python",
   "name": "python",
   "nbconvert_exporter": "python",
   "pygments_lexer": "ipython3",
   "version": "3.12.3"
  }
 },
 "nbformat": 4,
 "nbformat_minor": 5
}
