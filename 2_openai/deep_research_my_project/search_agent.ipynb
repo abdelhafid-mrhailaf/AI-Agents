{
 "cells": [
  {
   "cell_type": "code",
   "execution_count": 1,
   "id": "50f2716c",
   "metadata": {},
   "outputs": [],
   "source": [
    "from agents import Agent, WebSearchTool, ModelSettings\n",
    "from dotenv import load_dotenv\n",
    "from planner_agent import WebSearchItemList, WebSearchItem, plan_deep_search\n",
    "import asyncio\n",
    "\n",
    "load_dotenv(override=True)\n",
    "VALIDATOR_INSTRUCTION = \"You are a validation assistant. Given a search term and a generated summary, your task is to verify whether the summary adheres to the INSTRUCTIONS. The summary should be 2–3 paragraphs, under 300 words, concise, and focused only on the essential points from the web search results. Writing should be compact, possibly using fragments or short phrases, and free of commentary, filler, or unnecessary detail. The output must contain only the summary itself, no explanations or formatting. You will assess compliance and quality. If the summary violates any rule, briefly describe the issues. Always output your evaluation in three parts: Compliance (Yes/No), Issues (if any), and Quality Score (0–10). Be objective, professional, and concise in your assessment.\"\n",
    "\n",
    "\n",
    "search_agent_validator = Agent(\n",
    "    name=\"Search agent validator\",\n",
    "    instructions = VALIDATOR_INSTRUCTION,\n",
    "    model = \"gpt-4o-mini\"\n",
    ")\n",
    "\n",
    "search_validator_tool = search_agent_validator.as_tool(tool_name=\"search_validator\", tool_description=\"Validates whether a generated web search summary complies with the defined formatting and content INSTRUCTIONS. \"\n",
    "    \"It checks that the summary is 2–3 paragraphs, under 300 words, concise, and focused only on key findings without commentary or filler. \"\n",
    "    \"The tool outputs an objective evaluation including compliance status (Yes/No), a brief description of any issues, \"\n",
    "    \"and a quality score from 0–10 based on clarity, conciseness, and adherence to the guidelines.\")"
   ]
  },
  {
   "cell_type": "code",
   "execution_count": 2,
   "id": "deb2aadf",
   "metadata": {},
   "outputs": [],
   "source": [
    "INSTRUCTIONS = (\n",
    "    \"You are a research assistant. Given a search term, you search the web for that term and \"\n",
    "    \"produce a concise summary of the results. The summary must 2-3 paragraphs and less than 300 \"\n",
    "    \"words. Capture the main points. Write succintly, no need to have complete sentences or good \"\n",
    "    \"grammar. This will be consumed by someone synthesizing a report, so its vital you capture the \"\n",
    "    \"essence and ignore any fluff. Do not include any additional commentary other than the summary itself.\"\n",
    "    \"After producing the summary (and just after producing the summary), always use the search_validator tool to check compliance with the INSTRUCTIONS before finalizing your answer.\"\n",
    ")\n",
    "\n",
    "search_agent = Agent(\n",
    "    name=\"Search agent\",\n",
    "    instructions=INSTRUCTIONS,\n",
    "    tools=[WebSearchTool(search_context_size=\"low\"), search_validator_tool],\n",
    "    model=\"gpt-4o-mini\",\n",
    "    model_settings=ModelSettings(tool_choice=\"required\"),\n",
    ")"
   ]
  },
  {
   "cell_type": "code",
   "execution_count": 12,
   "id": "708b33bf",
   "metadata": {},
   "outputs": [
    {
     "name": "stdout",
     "output_type": "stream",
     "text": [
      "Planning searches...\n",
      "generating a new Item\n",
      "Regeneration of the prompt for the keyword result: case studies AI chatbots IT help-desk\n",
      "reason='To find a current list of AI chatbot frameworks specifically suited for IT help-desk applications.' query='best AI chatbot frameworks for IT help-desk'\n",
      "Several AI chatbot frameworks are well-suited for IT help-desk applications, offering features like automation, integration capabilities, and user-friendliness. **Botpress** is an open-source platform providing a comprehensive toolkit for designing, training, and deploying AI-driven support bots. It allows for integration with popular AI models and incorporates rule-based logic to manage inquiries and answer from a knowledge base effectively.\n",
      "\n",
      "**Dante** simplifies customer support with no-code deployment, enabling custom AI agents that can handle FAQs and operate 24/7 across various channels like websites, Facebook Messenger, and WhatsApp. **Zendesk** features an AI-driven chatbot that integrates with its helpdesk tools, streamlining workflows to deflect tickets and efficiently route queries. **Intercom's** chatbot, **Fin**, supports over 45 languages and provides precise answers drawn from a company’s support content, enhancing resolution times.\n",
      "\n",
      "**Workato** offers an enterprise chatbot platform designed for integrating applications and automating workflows. It facilitates ticket management through conversational interactions and integrates smoothly with existing IT infrastructures. These frameworks together enhance IT help-desk operations through effective AI-driven support and automation.\n"
     ]
    }
   ],
   "source": [
    "#from asyncio import Runner, as_completed\n",
    "from sys import exception\n",
    "from agents import Runner  \n",
    "\n",
    "\n",
    "async def search(item: WebSearchItem):\n",
    "    input = f\"Search Search term:: {item.query}\\n, Reason for searching: {item.reason}\"\n",
    "    result = await Runner.run(\n",
    "        search_agent,\n",
    "        input\n",
    "    )\n",
    "    return str(result.final_output)\n",
    "\n",
    "\n",
    "async def perform_web_search(webSearchItemList: WebSearchItemList):\n",
    "    print(\"Searching...\")\n",
    "    num_completed = 0\n",
    "    tasks = [asyncio.create_task(search(item)) for item in webSearchItemList.searches]\n",
    "    results = []\n",
    "    for task in asyncio.as_completed(tasks):\n",
    "        result = await task\n",
    "        if result is not None:\n",
    "            results.append(result)\n",
    "        num_completed += 1\n",
    "        print(f\"Searching... {num_completed}/{len(tasks)} completed\")\n",
    "    print(\"Finished searching\")\n",
    "    return results\n",
    "\n",
    "\n",
    "query_list = await plan_deep_search(\"What are the most usefull frameworks for developing AI Chatebot that help  IT help-desks solves their daily Tasks\")\n",
    "print(query_list.searches[0])\n",
    "print(await search(query_list.searches[0]))\n",
    "        \n"
   ]
  },
  {
   "cell_type": "code",
   "execution_count": 10,
   "id": "5e5e4b8e",
   "metadata": {},
   "outputs": [
    {
     "name": "stdout",
     "output_type": "stream",
     "text": [
      "reason='To find a comprehensive list of frameworks designed specifically for AI chatbots, especially in the context of IT help-desks.' query='best AI chatbot frameworks for IT help-desk'\n",
      "The summary of AI chatbot frameworks for IT help-desks is compliant with the guidelines and has a quality score of 9.\n"
     ]
    }
   ],
   "source": [
    "print(query_list.searches[0])\n",
    "print(await search(query_list.searches[0]))"
   ]
  },
  {
   "cell_type": "code",
   "execution_count": 13,
   "id": "16d63ca2",
   "metadata": {},
   "outputs": [
    {
     "name": "stdout",
     "output_type": "stream",
     "text": [
      "Searching...\n",
      "Searching... 1/3 completed\n",
      "Searching... 2/3 completed\n",
      "Searching... 3/3 completed\n",
      "Finished searching\n",
      "['For developing AI chatbots tailored for IT help-desk automation, several frameworks stand out:\\n\\n- **Botpress**: Open-source platform with a visual studio for conversation design, integrating AI models like OpenAI’s GPT-4, and supporting rule-based logic. Facilitates handling inquiries, accessing knowledge bases, and performing guided workflows.\\n\\n- **Dialogflow CX (Google Cloud)**: Features a state machine-based flow builder for complex conversations, integrates with Google Cloud’s AI models, and supports multi-language. Offers built-in speech-to-text and text-to-speech capabilities.\\n\\n- **Microsoft Bot Framework with Azure AI**: Code-first framework providing control over chatbot logic, integrates with Azure AI for natural language processing, and offers Bot Composer for low-code development.\\n\\n- **Rasa**: Open-source framework with components for natural language understanding and dialogue management. Allows full data control, custom models, and API connections for flexibility.\\n\\n- **Botkit**: Integrates with platforms like Slack and Microsoft Teams using a natural language processing engine from LUIS.ai, facilitating chatbot development with open-source libraries.\\n\\nThese frameworks provide diverse tools to effectively implement AI chatbots for IT help-desk automation.', 'Chatbot frameworks for IT support enhance efficiency, scalability, and user experience through various features. Key capabilities include:\\n\\n- **Natural Language Processing (NLP):** Facilitates human-like communication by understanding and generating natural language. \\n- **Multimodal Interfaces:** Supports text, voice, and image interactions, catering to diverse user preferences. \\n- **Integration Capabilities:** Seamlessly connects with existing IT systems, databases, and third-party applications to streamline operations. \\n- **Scalability:** Handles increasing user demands and data volumes without performance degradation. \\n- **Security and Compliance:** Ensures data protection and adherence to industry standards, important for managing sensitive information. \\n- **Analytics and Reporting:** Offers insights into user interactions and system performance, aiding in improvement efforts. \\n\\nNotable frameworks include IBM Watson Assistant, recognized for advanced NLP and customization, and Rasa, an open-source platform providing flexibility and control over data handling. Selecting an appropriate framework should align with specific IT support needs and existing infrastructure. \\n\\nOverall, the choice of a chatbot framework is influenced by requirements such as desired user experiences and operational capabilities in the IT support domain.', 'Several AI chatbot frameworks are effective for IT help-desk applications, providing features like automated ticketing, knowledge base integration, and multi-channel support. Botpress is an open-source platform that allows developers to create AI-driven support bots with a visual drag-and-drop studio. It integrates with AI models like OpenAI’s GPT-4 and supports deployment across websites and messaging apps, reducing support tickets that reach human agents.\\n\\nDante enables no-code chatbot deployment, allowing businesses to automate customer interactions across various platforms, including websites and messaging apps. Zendesk offers a no-code chatbot builder that integrates with its helpdesk tools for smart workflows to effectively route queries. Intercom’s AI-driven chatbot, Fin, provides real-time support in multiple languages and features such as message refinement and interaction summaries. Workato offers an enterprise chatbot platform that automates workflows and integrates with IT tech stacks to streamline operations.']\n"
     ]
    }
   ],
   "source": [
    "results = await perform_web_search(query_list)\n",
    "print(results)"
   ]
  }
 ],
 "metadata": {
  "kernelspec": {
   "display_name": ".venv",
   "language": "python",
   "name": "python3"
  },
  "language_info": {
   "codemirror_mode": {
    "name": "ipython",
    "version": 3
   },
   "file_extension": ".py",
   "mimetype": "text/x-python",
   "name": "python",
   "nbconvert_exporter": "python",
   "pygments_lexer": "ipython3",
   "version": "3.12.3"
  }
 },
 "nbformat": 4,
 "nbformat_minor": 5
}
