{
 "cells": [
  {
   "cell_type": "code",
   "execution_count": null,
   "id": "eeab8315",
   "metadata": {},
   "outputs": [],
   "source": [
    "import os\n",
    "from typing import Dict\n",
    "\n",
    "\n",
    "import sendgrid\n",
    "from sendgrid.helpers.mail import Email, Mail, Content, To\n",
    "from agents import Agent, function_tool, Runner\n",
    "\n",
    "from dotenv import load_dotenv  # pyright: ignore[reportMissingImports]\n",
    "from pydantic import BaseModel\n",
    "# \n",
    "load_dotenv(override=True)\n",
    "\n",
    "class EmailContent(BaseModel):\n",
    "    subject: str\n",
    "    html_body: str\n",
    "\n",
    "\n",
    "def send_email(subject: str, html_body: str) -> Dict[str, str]:\n",
    "    \"\"\" Send an email with the given subject and HTML body \"\"\"\n",
    "    sg = sendgrid.SendGridAPIClient(api_key=os.environ.get('SENDGRID_API_KEY'))\n",
    "    from_email = Email(\"abdelhafid.mrhailaf@stud.h-da.de\") # put your verified sender here\n",
    "    to_email = To(\"mrhailaf.abdelhafid@gmail.com\") # put your recipient here\n",
    "    content = Content(\"text/html\", html_body)\n",
    "    mail = Mail(from_email, to_email, subject, content).get()\n",
    "    response = sg.client.mail.send.post(request_body=mail)\n",
    "    print(\"Email response\", response.status_code)\n",
    "    return {\"status\": \"success\"}\n",
    "\n",
    "\n",
    "\n",
    "INSTRUCTIONS = \"\"\"\n",
    "You are able to send a nicely formatted HTML email based on a detailed report.\n",
    "You will be provided with a detailed report. You should format it into a clean, well-presented HTML email\n",
    "with an appropriate subject line.\n",
    "\n",
    "Do NOT send the email yourself.\n",
    "Instead, return an EmailContent object containing:\n",
    "- subject: a short, clear subject line.\n",
    "- html_body: the full formatted HTML email body.\n",
    "\"\"\"\n",
    "\n",
    "email_agent = Agent(\n",
    "    name=\"Email agent\",\n",
    "    instructions=INSTRUCTIONS,\n",
    "    model=\"gpt-4o-mini\",\n",
    "    output_type = EmailContent\n",
    ")\n",
    "\n",
    "async def send_email_report(report):\n",
    "    print(\"Writing email...\")\n",
    "    result = await Runner.run(email_agent, report)\n",
    "    email_data = result.final_output  # already an EmailContent object\n",
    "    send_email(email_data.subject, email_data.html_body)\n",
    "    print(\"Email sent\")\n",
    "    return report\n",
    "\n"
   ]
  },
  {
   "cell_type": "code",
   "execution_count": 26,
   "id": "08962940",
   "metadata": {},
   "outputs": [
    {
     "name": "stdout",
     "output_type": "stream",
     "text": [
      "Writing email...\n",
      "Email response 202\n",
      "Email sent\n"
     ]
    },
    {
     "data": {
      "text/plain": [
       "'IT Consultant'"
      ]
     },
     "execution_count": 26,
     "metadata": {},
     "output_type": "execute_result"
    }
   ],
   "source": [
    "await send_email_report(\"IT Consultant\")"
   ]
  }
 ],
 "metadata": {
  "kernelspec": {
   "display_name": ".venv",
   "language": "python",
   "name": "python3"
  },
  "language_info": {
   "codemirror_mode": {
    "name": "ipython",
    "version": 3
   },
   "file_extension": ".py",
   "mimetype": "text/x-python",
   "name": "python",
   "nbconvert_exporter": "python",
   "pygments_lexer": "ipython3",
   "version": "3.12.3"
  }
 },
 "nbformat": 4,
 "nbformat_minor": 5
}
