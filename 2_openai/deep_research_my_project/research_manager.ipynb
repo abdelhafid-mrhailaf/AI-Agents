{
 "cells": [
  {
   "cell_type": "code",
   "execution_count": 5,
   "id": "400be8e0",
   "metadata": {},
   "outputs": [],
   "source": [
    "import search_agent\n",
    "import planner_agent \n",
    "import writer_agent \n",
    "import email_agent \n",
    "from agents import gen_trace_id, trace\n",
    "\n",
    "class ResearchManager:\n",
    "    async def run(self, query: str):\n",
    "        \"\"\"Run the deep search proces, yielding the status updates and the final report\"\"\"\n",
    "        trace_id = gen_trace_id()\n",
    "        with trace(\"Research trace\", trace_id=trace_id):\n",
    "            print(\"Starting research....\")\n",
    "            search_plan = await planner_agent.plan_deep_search(query)\n",
    "            search_result = await search_agent.perform_web_search(search_plan)\n",
    "            #with open(\"search.md\", \"r\") as file:\n",
    "            #    text = file.read()\n",
    "            #report = text\n",
    "            report = await writer_agent.report_writer(query ,search_result)\n",
    "            print(report)\n",
    "            await email_agent.send_email_report(report.markdown_report)"
   ]
  },
  {
   "cell_type": "code",
   "execution_count": 6,
   "id": "e96d9de9",
   "metadata": {},
   "outputs": [
    {
     "name": "stdout",
     "output_type": "stream",
     "text": [
      "Starting research....\n",
      "Planning searches...\n",
      "Searching...\n",
      "Searching... 1/3 completed\n",
      "Searching... 2/3 completed\n",
      "Searching... 3/3 completed\n",
      "Finished searching\n",
      "Inside the loop\n",
      "short_summary='This report explores the leading network automation tools favored by large enterprises and network engineers, including Ansible, SaltStack, Puppet, and specialized monitoring solutions like SolarWinds and OpenNMS. By addressing various organizational requirements, the report highlights the strengths of each tool regarding automation efficiency, scalability, and security compliance.' markdown_report='# Comprehensive Report on Network Automation Tools for Large Enterprises\\n\\n## Table of Contents\\n1. [Introduction](#introduction)\\n2. [Overview of Network Automation](#overview-of-network-automation)\\n3. [Leading Network Automation Tools](#leading-network-automation-tools)\\n   - 3.1 [Configuration Management and Orchestration Tools](#configuration-management-and-orchestration-tools)\\n   - 3.2 [Network Monitoring Tools](#network-monitoring-tools)\\n   - 3.3 [Specialized Security Management Tools](#specialized-security-management-tools)\\n4. [Impact of Network Automation on Large Enterprises](#impact-of-network-automation-on-large-enterprises)\\n5. [Comparative Analysis of Popular Tools](#comparative-analysis-of-popular-tools)\\n6. [Challenges in Selecting Network Automation Tools](#challenges-in-selecting-network-automation-tools)\\n7. [Future Trends in Network Automation](#future-trends-in-network-automation)\\n8. [Conclusion](#conclusion)\\n9. [Follow Up Questions](#follow-up-questions)\\n\\n## Introduction\\nIn today’s rapidly evolving digital landscape, large enterprises increasingly rely on network automation tools to enhance their operational efficiency, scalability, and security. This report delves into the various tools favored by network engineers and IT departments, aiming to provide a comprehensive understanding of their features and applications.\\n\\n## Overview of Network Automation\\nNetwork automation refers to the use of software to create, configure, manage, and test network devices and services dynamically. With increasing network complexity and the urgency for faster deployment times, organizations adopt automation to minimize human error, ensure compliance, and streamline processes. Network automation tools generally fall into two main categories: those focusing on configuration management and orchestration and those dedicated to monitoring and security management.\\n\\n## Leading Network Automation Tools\\n### Configuration Management and Orchestration Tools\\n1. **Ansible**  \\n   Ansible is an open-source tool that utilizes a declarative approach with YAML playbooks, making it user-friendly for network engineers. Its agentless nature allows for automation across multi-vendor network environments, facilitating seamless integration and workflow optimization.\\n   \\n2. **SaltStack**  \\n   Known for its event-driven automation and rapid remote execution capabilities, SaltStack is well-suited for organizations of all sizes. Its scalability and flexibility make it a preferred choice for environments needing quick response times.\\n   \\n3. **Puppet**  \\n   Puppet operates on the philosophy of \"infrastructure as code,\" allowing network teams to define system configurations in a reproducible way. Its broad ecosystem of modules provides robust configuration and orchestration features.  \\n   \\n4. **Chef**  \\n   Similar to Puppet, Chef emphasizes a code-driven approach to infrastructure management. It allows teams to create reusable cookbooks to maintain platform consistency and manage policies effectively.\\n\\n### Network Monitoring Tools\\n1. **SolarWinds Network Performance Monitor (NPM)**  \\n   SolarWinds NPM is a comprehensive monitoring tool known for its robust SNMP-based features. It provides troubleshooting capabilities that are crucial for medium to large organizations managing complex infrastructures.\\n   \\n2. **OpenNMS**  \\n   As an open-source tool, OpenNMS is tailored for large-scale deployments. While it requires notable technical expertise, its capabilities in fault and performance monitoring make it valuable for enterprises with strong IT support.\\n   \\n3. **ManageEngine OpManager**  \\n   Offering device discovery and customizable alerts, ManageEngine OpManager is cost-effective and user-friendly, catering to mid-to-large enterprises with diverse network infrastructures.\\n   \\n4. **LogicMonitor**  \\n   Using AI for enhanced monitoring, LogicMonitor supports an extensive array of environments. Its intuitive interface, coupled with comprehensive log analysis features, positions it as an ideal solution for organizations with mid-to-large network demands.\\n\\n### Specialized Security Management Tools\\n1. **Tufin**  \\n   Tufin automates security policy management across hybrid environments. Its solutions are designed to ensure compliance and provide robust management capabilities for next-generation firewalls, routers, and cloud platforms.\\n\\n2. **Auvik**  \\n   While primarily a network monitoring solution, Auvik offers real-time infrastructure mapping and device health insights that are critical for maintaining security and compliance.\\n\\n## Impact of Network Automation on Large Enterprises\\nThe adoption of network automation has profound implications for large enterprises. Streamlined processes minimize the need for manual intervention, reducing error rates and operational costs. Enhanced monitoring tools allow organizations to maintain high availability and preempt network issues through proactive insights. Additionally, automation fosters a culture of continuous improvement and rapid deployment, aligning IT operations with business goals more effectively.\\n\\n## Comparative Analysis of Popular Tools\\nThe choice of a network automation tool is influenced by various factors including the organization’s size, complexity of the network infrastructure, and specific automation needs. The table below summarizes the unique features of the most popular tools:\\n\\n| Tool               | Key Features                             | Best For                   | Scalability\\n|--------------------|-----------------------------------------|----------------------------|------------|\\n| Ansible            | Declarative model, agentless, YAML     | Multi-vendor environments  | High       |\\n| SaltStack          | Event-driven, rapid execution           | Quick deployment           | Very High  |\\n| Puppet             | Infrastructure as code, reusable       | Standardized config        | Very High  |\\n| Chef               | Code-driven, community modules          | Infrastructure consistency  | High       |\\n| SolarWinds NPM    | SNMP monitoring, troubleshooting        | Medium to Large orgs      | High       |\\n| OpenNMS            | Open-source, fault and performance     | Large Enterprise networks   | Very High  |\\n| Tufin              | Security policy automation              | Compliance management      | High       |\\n| Auvik              | Real-time mapping, traffic analysis    | Small to Medium teams     | Medium     |\\n\\n## Challenges in Selecting Network Automation Tools\\nDespite the advantages, organizations face challenges in selecting the appropriate automation tools. Factors influencing choice include:\\n- **Cost**: Budget constraints can limit options, particularly for sophisticated features.\\n- **Expertise**: Some tools require specialized knowledge and skillsets, potentially creating barriers to implementation.\\n- **Integration**: Ensuring compatibility with existing systems and tools is crucial for seamless operation.\\n\\n## Future Trends in Network Automation\\nAs network demands evolve, automation will continue to adapt. Expected trends include:\\n- **Increased AI and Machine Learning Integration**: Enhanced predictive analytics and decision-making capabilities are expected to emerge, enabling even more autonomous network management.\\n- **Greater Focus on Security**: With threats escalating, security automation will become integral to network management.\\n- **Cloud-Native Automation**: As businesses grow more reliant on cloud infrastructures, tools facilitating automation within these environments will gain prominence.\\n\\n## Conclusion\\nThe landscape of network automation is vibrant, with numerous tools available to meet the diverse needs of large enterprises. From orchestration tools like Ansible and SaltStack to robust monitoring solutions like SolarWinds and OpenNMS, each tool addresses specific challenges and enhances overall operational efficiency. Organizations must carefully evaluate their specific needs and capabilities to select the most suitable tools for their network automation journey.\\n\\n## Follow Up Questions\\n- What specific features do enterprises prioritize when selecting network automation tools?\\n- How do organizations measure the ROI of network automation implementations?\\n- What are common pitfalls encountered during the deployment of network automation tools?\\n- How is the role of network engineers evolving in response to increased automation?' follow_up_questions=['What specific features do enterprises prioritize when selecting network automation tools?', 'How do organizations measure the ROI of network automation implementations?', 'What are common pitfalls encountered during the deployment of network automation tools?', 'How is the role of network engineers evolving in response to increased automation?']\n",
      "Writing email...\n",
      "Email response 202\n",
      "Email sent\n"
     ]
    }
   ],
   "source": [
    "rm = ResearchManager\n",
    "await rm.run(rm ,\"Search please about the best Network AUtomation tool used and based on the expeience of network engineerns and big companies\")"
   ]
  },
  {
   "cell_type": "code",
   "execution_count": null,
   "id": "cb9b1045",
   "metadata": {},
   "outputs": [],
   "source": []
  }
 ],
 "metadata": {
  "kernelspec": {
   "display_name": ".venv",
   "language": "python",
   "name": "python3"
  },
  "language_info": {
   "codemirror_mode": {
    "name": "ipython",
    "version": 3
   },
   "file_extension": ".py",
   "mimetype": "text/x-python",
   "name": "python",
   "nbconvert_exporter": "python",
   "pygments_lexer": "ipython3",
   "version": "3.12.3"
  }
 },
 "nbformat": 4,
 "nbformat_minor": 5
}
