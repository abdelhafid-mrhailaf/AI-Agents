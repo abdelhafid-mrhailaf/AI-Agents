{
 "cells": [
  {
   "cell_type": "code",
   "execution_count": null,
   "id": "400be8e0",
   "metadata": {},
   "outputs": [],
   "source": [
    "import search_agent\n",
    "import planner_agent \n",
    "import writer_agent \n",
    "import email_agent \n",
    "from agents import gen_trace_id, trace\n",
    "\n",
    "class ResearchManager:\n",
    "    async def run(self, query: str):\n",
    "        \"\"\"Run the deep search proces, yielding the status updates and the final report\"\"\"\n",
    "        trace_id = gen_trace_id()\n",
    "        with trace(\"Research trace\", trace_id=trace_id):\n",
    "            print(\"Starting research....\")\n",
    "            search_plan = await planner_agent.plan_deep_search(query)\n",
    "            search_result = await search_agent.perform_web_search(search_plan)\n",
    "            report = await writer_agent.report_writer(search_result)\n",
    "            await email_agent.send_email(report)"
   ]
  }
 ],
 "metadata": {
  "kernelspec": {
   "display_name": ".venv",
   "language": "python",
   "name": "python3"
  },
  "language_info": {
   "codemirror_mode": {
    "name": "ipython",
    "version": 3
   },
   "file_extension": ".py",
   "mimetype": "text/x-python",
   "name": "python",
   "nbconvert_exporter": "python",
   "pygments_lexer": "ipython3",
   "version": "3.12.3"
  }
 },
 "nbformat": 4,
 "nbformat_minor": 5
}
